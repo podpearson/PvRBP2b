{
 "cells": [
  {
   "cell_type": "markdown",
   "metadata": {},
   "source": [
    "# Introduction\n",
    "This notebook is used to create a figure on RBP2b nucleotide diversity and Tajima's D for Wai-Hong Tham at WEHI, for a manuscript under preparation."
   ]
  },
  {
   "cell_type": "markdown",
   "metadata": {},
   "source": [
    "# Setup"
   ]
  },
  {
   "cell_type": "code",
   "execution_count": 1,
   "metadata": {
    "collapsed": false
   },
   "outputs": [],
   "source": [
    "import numpy as np\n",
    "import os\n",
    "import allel\n",
    "import vcf\n",
    "\n",
    "%matplotlib inline\n",
    "import matplotlib.pyplot as plt\n",
    "import seaborn as sns\n",
    "sns.set_context('paper')\n",
    "sns.set_style('white')\n",
    "sns.set_style('ticks')\n",
    "rcParams = plt.rcParams\n",
    "rcParams['font.size'] = 9\n",
    "rcParams['axes.labelsize'] = 9\n",
    "rcParams['xtick.labelsize'] = 9\n",
    "rcParams['ytick.labelsize'] = 9\n",
    "rcParams['legend.fontsize'] = 9\n",
    "rcParams['axes.linewidth'] = .5\n",
    "rcParams['lines.linewidth'] = .5\n",
    "rcParams['patch.linewidth'] = .5\n",
    "rcParams['font.family'] = 'arial'\n",
    "rcParams['ytick.direction'] = 'out'\n",
    "rcParams['xtick.direction'] = 'out'\n",
    "rcParams['savefig.jpeg_quality'] = 100\n",
    "rcParams['savefig.dpi'] = 80\n",
    "rcParams['legend.frameon'] = True\n",
    "from matplotlib.ticker import MultipleLocator, FormatStrFormatter\n"
   ]
  },
  {
   "cell_type": "code",
   "execution_count": 2,
   "metadata": {
    "collapsed": false
   },
   "outputs": [],
   "source": [
    "output_dir = '20170803_RBP2b_diversity_for_Wai-Hong'\n",
    "!mkdir -p {output_dir}\n",
    "\n",
    "manuscript_vcf_ftp = 'ftp://ngs.sanger.ac.uk/production/malaria/pvgv/May2016_release/pv_1_0_NG_manuscript.vcf.gz'\n",
    "manuscript_vcf = \"%s/%s\" % (output_dir, os.path.basename(manuscript_vcf_ftp))\n",
    "rbp2b_vcf = \"%s/PvRBP2b.vcf.gz\" % output_dir\n",
    "diploid_vcf = \"%s/PvRBP2b.diploid.vcf.gz\" % output_dir"
   ]
  },
  {
   "cell_type": "code",
   "execution_count": 3,
   "metadata": {
    "collapsed": false
   },
   "outputs": [
    {
     "name": "stdout",
     "output_type": "stream",
     "text": [
      "(148,)\n"
     ]
    }
   ],
   "source": [
    "# These are the positions (in bp) of the two exons of RBP2b, using Sal1 coordinates\n",
    "RBP2b_exons = [[54438, 54492], [54781, 63146]]\n",
    "    \n",
    "# The following are the 148 samples used for most analyses in the PvGv manuscript (http://www.nature.com/ng/journal/v48/n8/full/ng.3599.html)\n",
    "analysis_samples = np.array(\n",
    "    [\n",
    "        'PD0165-C', 'PD0166-C', 'PD0167-C', 'PD0168-C', 'PD0169-C', 'PD0170-C', 'PD0171-C', 'PD0172-C',\n",
    "        'PD0173-C', 'PD0174-C', 'PD0175-C', 'PD0176-C', 'PD0177-C', 'PD0178-C', 'PD0179-C', 'PD0180-C',\n",
    "        'PD0181-C', 'PD0182-C', 'PD0183-C', 'PD0184-C', 'PD0593-C', 'PD0594-C', 'PD0595-C', 'PD0596-C',\n",
    "        'PD0597-C', 'PD0598-C', 'PD0599-C', 'PD0600-C', 'PD0601-C', 'PD0602-C', 'PD0603-C', 'PD0604-C',\n",
    "        'PD0605-C', 'PD0606-C', 'PD0607-C', 'PD0608-C', 'PD0609-C', 'PD0610-C', 'PD0611-C', 'PD0612-C',\n",
    "        'PD0613-C', 'PD0614-C', 'PD0615-C', 'PD0617-C', 'PD0618-C', 'PD0619-C', 'PD0620-C', 'PD0624-C',\n",
    "        'PD0625-C', 'PD0674-C', 'PD0675-C', 'PD0676-C', 'PD0678-C', 'PD0679-C', 'PD0680-C', 'PD0681-C',\n",
    "        'PD0684-C', 'PD0685-C', 'PD0686-C', 'PD0687-C', 'PD0688-C', 'PD0689-C', 'PD0690-C', 'PD0691-C',\n",
    "        'PD0692-C', 'PD0693-C', 'PD0694-C', 'PD0695-C', 'PD0696-C', 'PD0697-C', 'PD0698-C', 'PD0699-C',\n",
    "        'PD0700-C', 'PD0701-C', 'PD0702-C', 'PD0703-C', 'PD0704-C', 'PD0705-C', 'PD0706-C', 'PD0707-C',\n",
    "        'PD0708-C', 'PD0709-C', 'PD0710-C', 'PD0711-C', 'PD0712-C', 'PD0713-C', 'PD0714-C', 'PD0715-C',\n",
    "        'PH0177-C', 'PH0178-C', 'PH0180-C', 'PH0182-C', 'PH0187-C', 'PH0188-C', 'PH0190-C', 'PH0310-C',\n",
    "        'PH0312-C', 'PH0320-C', 'PH0893-C', 'PH0914-Cx', 'PH1078-C', 'PH1109-C', 'PH1112-C', 'PH1113-C',\n",
    "        'PH1124-C', 'PH1125-C', 'PH1133-C', 'PJ0006-CW', 'PJ0007-C', 'PJ0008-C', 'PJ0009-C', 'PJ0011-C',\n",
    "        'PJ0012-Cx', 'PJ0016-C', 'PJ0018-C', 'PJ0030-C', 'PJ0032-C', 'PJ0033-C', 'PJ0035-C', 'PJ0037-C',\n",
    "        'PJ0041-C', 'PJ0042-C', 'PJ0043-C', 'PJ0047-C', 'PJ0049-C', 'PJ0055-C', 'PJ0057-C', 'PJ0059-C',\n",
    "        'PJ0063-C', 'PJ0065-C', 'PJ0068-C', 'PJ0069-Cx', 'PJ0071-C', 'PJ0072-C', 'PJ0074-C', 'PJ0079-C',\n",
    "        'PJ0083-C', 'PJ0085-C', 'PJ0086-C', 'PJ0088-Cx', 'PJ0090-Cx', 'PJ0097-C', 'PJ0099-C', 'PJ0106-Cx',\n",
    "        'PJ0117-Cx', 'PJ0123-C', 'PJ0127-Cx', 'PJ0167-C'\n",
    "    ]\n",
    ")\n",
    "print(analysis_samples.shape)"
   ]
  },
  {
   "cell_type": "markdown",
   "metadata": {},
   "source": [
    "# Download files from MalariaGEN website"
   ]
  },
  {
   "cell_type": "code",
   "execution_count": 4,
   "metadata": {
    "collapsed": false
   },
   "outputs": [
    {
     "name": "stdout",
     "output_type": "stream",
     "text": [
      "--2017-08-03 09:45:12--  ftp://ngs.sanger.ac.uk/production/malaria/pvgv/May2016_release/pv_1_0_NG_manuscript.vcf.gz\n",
      "           => `/nfs/team112_internal/rp7/data/pv/analysis/20170803_RBP2b_diversity_for_Wai-Hong/pv_1_0_NG_manuscript.vcf.gz'\n",
      "Resolving ngs.sanger.ac.uk (ngs.sanger.ac.uk)... 193.62.203.121\n",
      "Connecting to ngs.sanger.ac.uk (ngs.sanger.ac.uk)|193.62.203.121|:21... connected.\n",
      "Logging in as anonymous ... Logged in!\n",
      "==> SYST ... done.    ==> PWD ... done.\n",
      "==> TYPE I ... done.  ==> CWD (1) /production/malaria/pvgv/May2016_release ... done.\n",
      "==> SIZE pv_1_0_NG_manuscript.vcf.gz ... 276257852\n",
      "==> PASV ... done.    ==> RETR pv_1_0_NG_manuscript.vcf.gz ... done.\n",
      "Length: 276257852 (263M) (unauthoritative)\n",
      "\n",
      "100%[======================================>] 276,257,852  321M/s   in 0.8s    \n",
      "\n",
      "2017-08-03 09:45:13 (321 MB/s) - `/nfs/team112_internal/rp7/data/pv/analysis/20170803_RBP2b_diversity_for_Wai-Hong/pv_1_0_NG_manuscript.vcf.gz' saved [276257852]\n",
      "\n"
     ]
    }
   ],
   "source": [
    "!wget -O {manuscript_vcf} {manuscript_vcf_ftp}"
   ]
  },
  {
   "cell_type": "code",
   "execution_count": 5,
   "metadata": {
    "collapsed": false
   },
   "outputs": [
    {
     "name": "stdout",
     "output_type": "stream",
     "text": [
      "--2017-08-03 09:45:14--  ftp://ngs.sanger.ac.uk/production/malaria/pvgv/May2016_release/pv_1_0_NG_manuscript.vcf.gz.tbi\r\n",
      "           => `/nfs/team112_internal/rp7/data/pv/analysis/20170803_RBP2b_diversity_for_Wai-Hong/pv_1_0_NG_manuscript.vcf.gz.tbi'\r\n",
      "Resolving ngs.sanger.ac.uk (ngs.sanger.ac.uk)... 193.62.203.121\r\n",
      "Connecting to ngs.sanger.ac.uk (ngs.sanger.ac.uk)|193.62.203.121|:21... connected.\r\n",
      "Logging in as anonymous ... Logged in!\r\n",
      "==> SYST ... done.    ==> PWD ... done.\r\n",
      "==> TYPE I ... done.  ==> CWD (1) /production/malaria/pvgv/May2016_release ... done.\r\n",
      "==> SIZE pv_1_0_NG_manuscript.vcf.gz.tbi ... 15050\r\n",
      "==> PASV ... done.    ==> RETR pv_1_0_NG_manuscript.vcf.gz.tbi ... done.\r\n",
      "Length: 15050 (15K) (unauthoritative)\r\n",
      "\r\n",
      "\r",
      " 0% [                                       ] 0           --.-K/s              \r",
      "100%[======================================>] 15,050      --.-K/s   in 0.001s  \r\n",
      "\r\n",
      "2017-08-03 09:45:14 (24.9 MB/s) - `/nfs/team112_internal/rp7/data/pv/analysis/20170803_RBP2b_diversity_for_Wai-Hong/pv_1_0_NG_manuscript.vcf.gz.tbi' saved [15050]\r\n",
      "\r\n"
     ]
    }
   ],
   "source": [
    "!wget -O {manuscript_vcf + '.tbi'} {manuscript_vcf_ftp + '.tbi'}"
   ]
  },
  {
   "cell_type": "markdown",
   "metadata": {},
   "source": [
    "# Create VCF for RBP2b"
   ]
  },
  {
   "cell_type": "code",
   "execution_count": 6,
   "metadata": {
    "collapsed": false
   },
   "outputs": [],
   "source": [
    "!bcftools view --regions Pv_Sal1_chr08:54438-54492,Pv_Sal1_chr08:54781-63146 --output-file {rbp2b_vcf} --output-type z {manuscript_vcf}\n",
    "!bcftools index -f --tbi {rbp2b_vcf}"
   ]
  },
  {
   "cell_type": "code",
   "execution_count": 7,
   "metadata": {
    "collapsed": false
   },
   "outputs": [],
   "source": [
    "# Create truly diploid version of vcf\n",
    "!zcat {rbp2b_vcf} | \\\n",
    "sed 's/\\t0:/\\t0\\/0:/g' | \\\n",
    "sed 's/\\t1:/\\t1\\/1:/g' | \\\n",
    "bgzip -c > \\\n",
    "{diploid_vcf}\n",
    "!bcftools index -f --tbi {diploid_vcf}\n"
   ]
  },
  {
   "cell_type": "markdown",
   "metadata": {},
   "source": [
    "# Read VCF data into numpy arrays"
   ]
  },
  {
   "cell_type": "code",
   "execution_count": 8,
   "metadata": {
    "collapsed": false
   },
   "outputs": [],
   "source": [
    "vcf_data = allel.read_vcf(diploid_vcf)"
   ]
  },
  {
   "cell_type": "code",
   "execution_count": 9,
   "metadata": {
    "collapsed": false
   },
   "outputs": [
    {
     "data": {
      "text/plain": [
       "(array([False,  True], dtype=bool), array([ 80, 148]))"
      ]
     },
     "execution_count": 9,
     "metadata": {},
     "output_type": "execute_result"
    }
   ],
   "source": [
    "vcf_samples_in_148 = np.in1d(vcf_data['samples'], analysis_samples)\n",
    "np.unique(vcf_samples_in_148, return_counts=True)"
   ]
  },
  {
   "cell_type": "code",
   "execution_count": 10,
   "metadata": {
    "collapsed": false
   },
   "outputs": [
    {
     "data": {
      "text/plain": [
       "(159, 228, 2)"
      ]
     },
     "execution_count": 10,
     "metadata": {},
     "output_type": "execute_result"
    }
   ],
   "source": [
    "# How many variants and samples, and what is ploidy?\n",
    "vcf_data['calldata/GT'].shape"
   ]
  },
  {
   "cell_type": "markdown",
   "metadata": {},
   "source": [
    "# Convert genomic coordinate to position within gene"
   ]
  },
  {
   "cell_type": "code",
   "execution_count": 11,
   "metadata": {
    "collapsed": false
   },
   "outputs": [
    {
     "name": "stdout",
     "output_type": "stream",
     "text": [
      "4275\n",
      "1\n",
      "55\n",
      "nan\n",
      "56\n",
      "8421\n"
     ]
    }
   ],
   "source": [
    "def position_in_gene(pos=59000, exons=RBP2b_exons):\n",
    "    offset = 0\n",
    "    for exon in exons:\n",
    "        if pos >= exon[0] and pos <= exon[1]:\n",
    "            return(pos-exon[0]+offset+1)\n",
    "        else:\n",
    "            offset += (exon[1] - exon[0] + 1)\n",
    "    return(np.nan)\n",
    "print(position_in_gene())\n",
    "print(position_in_gene(54438))\n",
    "print(position_in_gene(54492))\n",
    "print(position_in_gene(54493))\n",
    "print(position_in_gene(54781))\n",
    "print(position_in_gene(63146))\n"
   ]
  },
  {
   "cell_type": "markdown",
   "metadata": {},
   "source": [
    "# Plotting functions"
   ]
  },
  {
   "cell_type": "code",
   "execution_count": 12,
   "metadata": {
    "collapsed": false
   },
   "outputs": [],
   "source": [
    "def plot_tajd(vcf_data=vcf_data, samples_to_use=vcf_samples_in_148,\n",
    "              size=300, start=54438, stop=63146 , step=3, despine_bottom=False,\n",
    "              highlight_regions=[[169, 470]], ax=None):\n",
    "    pos_in_gene = [position_in_gene(x) for x in vcf_data['variants/POS']]\n",
    "    ac = allel.GenotypeArray(vcf_data['calldata/GT'][: ,samples_to_use, :]).count_alleles()\n",
    "    D, windows, counts = allel.stats.diversity.windowed_tajima_d(\n",
    "        pos=pos_in_gene, ac=ac, size=size, start=position_in_gene(start), stop=position_in_gene(stop), step=step,\n",
    "        fill=0.0\n",
    "    )\n",
    "    D[np.isnan(D)] = 0.0\n",
    "    \n",
    "    # set up axes\n",
    "    if ax is None:\n",
    "        fig, ax = plt.subplots(figsize=(8, 2))\n",
    "#         fig.tight_layout()\n",
    "    \n",
    "    x = (windows[:, 0] + windows[:, 1]) / 6\n",
    "    \n",
    "    # plot\n",
    "    sns.despine(ax=ax, offset=5, bottom=despine_bottom)\n",
    "    ax.plot(x, D)\n",
    "    if despine_bottom:\n",
    "        ax.set_xlabel('')        \n",
    "        ax.set_xticks([])        \n",
    "    else:\n",
    "        ax.set_xlabel('PvRBP2b amino acid position')\n",
    "    ax.set_xlim((position_in_gene(start)/3, position_in_gene(stop)/3))\n",
    "    for region in highlight_regions:\n",
    "        ax.axvspan(region[1], region[0], facecolor='k', alpha=0.1)\n",
    "    ax.axhline(0)\n",
    "    ax.set_ylabel('Tajima\\'s $D$')\n",
    "    \n",
    "    minorLocator = MultipleLocator(100)\n",
    "    ax.xaxis.set_minor_locator(minorLocator)\n",
    "\n",
    "    return(ax, x, D)\n"
   ]
  },
  {
   "cell_type": "code",
   "execution_count": 13,
   "metadata": {
    "collapsed": false
   },
   "outputs": [
    {
     "name": "stderr",
     "output_type": "stream",
     "text": [
      "/nfs/users/nfs_r/rp7/miniconda3/envs/biipy/lib/python3.5/site-packages/allel/stats/diversity.py:1040: RuntimeWarning: invalid value encountered in double_scalars\n",
      "  wD = d / d_stdev\n",
      "/nfs/users/nfs_r/rp7/miniconda3/envs/biipy/lib/python3.5/site-packages/matplotlib/font_manager.py:1297: UserWarning: findfont: Font family ['arial'] not found. Falling back to DejaVu Sans\n",
      "  (prop.get_family(), self.defaultFamily[fontext]))\n"
     ]
    },
    {
     "data": {
      "image/png": "[encoded data removed]",
      "text/plain": [
       "<matplotlib.figure.Figure at 0x7efc090dcd68>"
      ]
     },
     "metadata": {},
     "output_type": "display_data"
    }
   ],
   "source": [
    "ax, x, D = plot_tajd()"
   ]
  },
  {
   "cell_type": "code",
   "execution_count": 14,
   "metadata": {
    "collapsed": false
   },
   "outputs": [],
   "source": [
    "def plot_diversity(vcf_data=vcf_data, samples_to_use=vcf_samples_in_148,\n",
    "              size=300, start=54438, stop=63146 , step=3, despine_bottom=False,\n",
    "              highlight_regions=[[169, 470]], ax=None):\n",
    "    pos_in_gene = [position_in_gene(x) for x in vcf_data['variants/POS']]\n",
    "    ac = allel.GenotypeArray(vcf_data['calldata/GT'][: ,samples_to_use, :]).count_alleles()\n",
    "    pi, windows, number_of_bases, counts = allel.stats.diversity.windowed_diversity(\n",
    "        pos=pos_in_gene, ac=ac, size=size, start=position_in_gene(start), stop=position_in_gene(stop), step=step,\n",
    "        fill=0.0\n",
    "    )\n",
    "    pi[np.isnan(pi)] = 0.0\n",
    "    \n",
    "    # set up axes\n",
    "    if ax is None:\n",
    "        fig, ax = plt.subplots(figsize=(8, 2))\n",
    "#         fig.tight_layout()\n",
    "    \n",
    "    x = (windows[:, 0] + windows[:, 1]) / 6\n",
    "    \n",
    "    # plot\n",
    "    sns.despine(ax=ax, offset=5, bottom=despine_bottom)\n",
    "    ax.plot(x, pi)\n",
    "    if despine_bottom:\n",
    "        ax.set_xlabel('')        \n",
    "        ax.set_xticks([])        \n",
    "    else:\n",
    "        ax.set_xlabel('PvRBP2b amino acid position')\n",
    "    ax.set_xlim((position_in_gene(start)/3, position_in_gene(stop)/3))\n",
    "    for region in highlight_regions:\n",
    "        ax.axvspan(region[1], region[0], facecolor='k', alpha=0.1)\n",
    "    ax.set_ylabel('Nucleotide diversity (${\\pi}$)')\n",
    "    \n",
    "    return(ax, x, pi)\n"
   ]
  },
  {
   "cell_type": "code",
   "execution_count": 15,
   "metadata": {
    "collapsed": false
   },
   "outputs": [
    {
     "name": "stderr",
     "output_type": "stream",
     "text": [
      "/nfs/users/nfs_r/rp7/miniconda3/envs/biipy/lib/python3.5/site-packages/matplotlib/font_manager.py:1297: UserWarning: findfont: Font family ['arial'] not found. Falling back to DejaVu Sans\n",
      "  (prop.get_family(), self.defaultFamily[fontext]))\n"
     ]
    },
    {
     "data": {
      "image/png": "[encoded data removed]",
      "text/plain": [
       "<matplotlib.figure.Figure at 0x7efc6469ffd0>"
      ]
     },
     "metadata": {},
     "output_type": "display_data"
    }
   ],
   "source": [
    "_ = plot_diversity()"
   ]
  },
  {
   "cell_type": "code",
   "execution_count": 16,
   "metadata": {
    "collapsed": false
   },
   "outputs": [],
   "source": [
    "def plot_pi_d(vcf_data=vcf_data, samples_to_use=vcf_samples_in_148,\n",
    "              size=300, start=54438, stop=63146 , step=3, ax=None, filename=None):\n",
    "    fig, ax = plt.subplots(2, figsize=(8, 4))\n",
    "    \n",
    "    _, x, pi = plot_diversity(vcf_data, samples_to_use, size, start, stop , step, despine_bottom=True, ax=ax[0])\n",
    "    _, x, D = plot_tajd(vcf_data, samples_to_use, size, start, stop , step, despine_bottom=False, ax=ax[1])\n",
    "    \n",
    "    fig.tight_layout()\n",
    "    \n",
    "    if filename is not None:\n",
    "        fig.savefig(filename)\n"
   ]
  },
  {
   "cell_type": "markdown",
   "metadata": {},
   "source": [
    "# Create final plot"
   ]
  },
  {
   "cell_type": "code",
   "execution_count": 17,
   "metadata": {
    "collapsed": false,
    "scrolled": true
   },
   "outputs": [
    {
     "name": "stderr",
     "output_type": "stream",
     "text": [
      "/nfs/users/nfs_r/rp7/miniconda3/envs/biipy/lib/python3.5/site-packages/allel/stats/diversity.py:1040: RuntimeWarning: invalid value encountered in double_scalars\n",
      "  wD = d / d_stdev\n",
      "/nfs/users/nfs_r/rp7/miniconda3/envs/biipy/lib/python3.5/site-packages/matplotlib/font_manager.py:1297: UserWarning: findfont: Font family ['arial'] not found. Falling back to DejaVu Sans\n",
      "  (prop.get_family(), self.defaultFamily[fontext]))\n"
     ]
    },
    {
     "data": {
      "image/png": "[encoded data removed]",
      "text/plain": [
       "<matplotlib.figure.Figure at 0x7efbfefe4b38>"
      ]
     },
     "metadata": {},
     "output_type": "display_data"
    }
   ],
   "source": [
    "plot_pi_d(filename=\"%s/PvRBP2b_Pi_D_all_SNPs_20170803.pdf\" % output_dir)"
   ]
  },
  {
   "cell_type": "code",
   "execution_count": null,
   "metadata": {
    "collapsed": true
   },
   "outputs": [],
   "source": []
  }
 ],
 "metadata": {
  "kernelspec": {
   "display_name": "Python 3",
   "language": "python",
   "name": "python3"
  },
  "language_info": {
   "codemirror_mode": {
    "name": "ipython",
    "version": 3
   },
   "file_extension": ".py",
   "mimetype": "text/x-python",
   "name": "python",
   "nbconvert_exporter": "python",
   "pygments_lexer": "ipython3",
   "version": "3.5.2"
  }
 },
 "nbformat": 4,
 "nbformat_minor": 0
}
